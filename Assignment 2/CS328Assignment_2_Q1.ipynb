{
  "nbformat": 4,
  "nbformat_minor": 0,
  "metadata": {
    "colab": {
      "name": "CS328Assignment_2_Q1.ipynb",
      "provenance": [],
      "collapsed_sections": []
    },
    "kernelspec": {
      "name": "python3",
      "display_name": "Python 3"
    },
    "accelerator": "GPU"
  },
  "cells": [
    {
      "cell_type": "code",
      "metadata": {
        "id": "x-qnJcb_EI9i",
        "colab_type": "code",
        "colab": {}
      },
      "source": [
        "import matplotlib.pyplot as plt\n",
        "import pandas as pd\n",
        "import numpy as np\n",
        "from sklearn import cluster\n",
        "from sklearn import datasets\n",
        "from sklearn import mixture\n",
        "from scipy.stats import multivariate_normal\n",
        "from sklearn.datasets import make_spd_matrix"
      ],
      "execution_count": 0,
      "outputs": []
    },
    {
      "cell_type": "code",
      "metadata": {
        "id": "gwQax42OQScN",
        "colab_type": "code",
        "colab": {}
      },
      "source": [
        "plt.rcParams[\"axes.grid\"] = False"
      ],
      "execution_count": 0,
      "outputs": []
    },
    {
      "cell_type": "code",
      "metadata": {
        "id": "cOFnXK9cCDMn",
        "colab_type": "code",
        "outputId": "f2586ac6-dfe1-4190-b663-2e4b54a12828",
        "colab": {
          "base_uri": "https://localhost:8080/",
          "height": 34
        }
      },
      "source": [
        "means = [[0 for i in range(32)],[1 for j in range(32)]]\n",
        "mu, sigma = 0, 1 \n",
        "s = np.random.normal(mu, sigma, 1)\n",
        "means[1] = [s[0]*i for i in means[1]]\n",
        "print(s)"
      ],
      "execution_count": 0,
      "outputs": [
        {
          "output_type": "stream",
          "text": [
            "[-0.39667357]\n"
          ],
          "name": "stdout"
        }
      ]
    },
    {
      "cell_type": "code",
      "metadata": {
        "id": "HGuqWKN4CFn9",
        "colab_type": "code",
        "colab": {}
      },
      "source": [
        "cov_array = []\n",
        "mean_array = []\n",
        "c1  = [0.5,1,1.5,2,3,4,8]\n",
        "\n",
        "for i in range(7):\n",
        "    t = []\n",
        "    for j in range(2):\n",
        "        t.append(np.identity(32))\n",
        "    cov_array.append(t)\n",
        "    \n",
        "for i in c1:\n",
        "    temp = means.copy()\n",
        "    temp[1] = [i*j for j in temp[1]]\n",
        "    mean_array.append(temp)"
      ],
      "execution_count": 0,
      "outputs": []
    },
    {
      "cell_type": "markdown",
      "metadata": {
        "id": "uDmN-rQxCGgw",
        "colab_type": "text"
      },
      "source": [
        "**Dataset Formation**"
      ]
    },
    {
      "cell_type": "code",
      "metadata": {
        "id": "RXH_oWCvCJ9I",
        "colab_type": "code",
        "colab": {}
      },
      "source": [
        "data_array = [] # array containing all 7 datasets\n",
        "for i in range(7):\n",
        "    dataset = []\n",
        "    for mean, cov in zip(mean_array[i],cov_array[i]):\n",
        "        x = np.random.multivariate_normal(mean, cov, 5000)\n",
        "        dataset += list(x)\n",
        "    data_array.append(np.array(dataset))"
      ],
      "execution_count": 0,
      "outputs": []
    },
    {
      "cell_type": "markdown",
      "metadata": {
        "id": "zojdKbu05GUp",
        "colab_type": "text"
      },
      "source": [
        "**EM Algorithm**"
      ]
    },
    {
      "cell_type": "code",
      "metadata": {
        "id": "9vod9NxWx_Tc",
        "colab_type": "code",
        "colab": {}
      },
      "source": [
        "def EM(data,iters,clusters,i):\n",
        "  ik = i\n",
        "  means = None\n",
        "  covars = None\n",
        "  probs = None\n",
        "  means = np.random.random_sample(size=(clusters, data.shape[1]))\n",
        "  covars = np.array([np.identity(data.shape[1])*3 + 1e-7*np.ones(data.shape[1]) for i in range(clusters)])\n",
        "  probs = np.ones(clusters)\n",
        "  probs = probs/clusters\n",
        "\n",
        "  log_likelihoods = []\n",
        "\n",
        "  for _ in range(iters):\n",
        "    # Expectation Step\n",
        "    r = np.zeros(shape=(data.shape[0], clusters))\n",
        "\n",
        "    for c in range(clusters):\n",
        "      r[:, c] = probs[c] * multivariate_normal.pdf(data, mean=means[c], cov=covars[c], allow_singular=True)\n",
        "\n",
        "    k = np.sum(r,axis=1)\n",
        "    for i in range(r.shape[0]):\n",
        "      if(k[i]!=0):\n",
        "        r[i] = r[i]/k[i]\n",
        "\n",
        "    # Maximisation step\n",
        "    probs = np.sum(r, axis=0)/np.sum(np.sum(r, axis=0))\n",
        "    temp = np.sum(r, axis=0)\n",
        "    means = np.dot(np.transpose(r), data)/temp[:, None]\n",
        "\n",
        "    for c in range(clusters):\n",
        "      covars[c] = (1/temp[c]) * np.dot((r[:,c].reshape(-1,1)*(data-means[c])).T, (data-means[c]))\n",
        "      \n",
        "    log_likelihoods.append(np.log(np.sum([k*multivariate_normal(means[i],covars[j]).pdf(data) for k,i,j in zip(probs,range(len(means)),range(len(covars)))])))\n",
        "  err = np.linalg.norm(mean_array[ik][0]-means[0])+np.linalg.norm(mean_array[ik][1] - means[1])\n",
        "  print(\"||(μ1 − μ_1) + (μ2 − μ_2)||_2 using EM algorithm for c =\", str(c1[ik]),\"is: \", err)"
      ],
      "execution_count": 0,
      "outputs": []
    },
    {
      "cell_type": "code",
      "metadata": {
        "id": "1j9cpXQ4yAjP",
        "colab_type": "code",
        "outputId": "41c1ed0a-aba8-4782-ff77-9c7bf58845f9",
        "colab": {
          "base_uri": "https://localhost:8080/",
          "height": 134
        }
      },
      "source": [
        "for i in range (7):\n",
        "  points = data_array[i]\n",
        "  EM(points, 50, 2,i)"
      ],
      "execution_count": 0,
      "outputs": [
        {
          "output_type": "stream",
          "text": [
            "||(μ1 − μ_1) + (μ2 − μ_2)||_2 using EM algorithm for c = 0.5 is:  1.245692403764794\n",
            "||(μ1 − μ_1) + (μ2 − μ_2)||_2 using EM algorithm for c = 1 is:  2.322045367986703\n",
            "||(μ1 − μ_1) + (μ2 − μ_2)||_2 using EM algorithm for c = 1.5 is:  3.39345744914443\n",
            "||(μ1 − μ_1) + (μ2 − μ_2)||_2 using EM algorithm for c = 2 is:  5.139794440094862\n",
            "||(μ1 − μ_1) + (μ2 − μ_2)||_2 using EM algorithm for c = 3 is:  6.819965399599326\n",
            "||(μ1 − μ_1) + (μ2 − μ_2)||_2 using EM algorithm for c = 4 is:  9.40027162915333\n",
            "||(μ1 − μ_1) + (μ2 − μ_2)||_2 using EM algorithm for c = 8 is:  35.91235997791324\n"
          ],
          "name": "stdout"
        }
      ]
    },
    {
      "cell_type": "markdown",
      "metadata": {
        "colab_type": "text",
        "id": "xpNUGLlgB3R1"
      },
      "source": [
        "**kmeans++ Algorithm**"
      ]
    },
    {
      "cell_type": "code",
      "metadata": {
        "colab_type": "code",
        "id": "vMqnVUFYB04l",
        "colab": {}
      },
      "source": [
        "import sys\n",
        "maxs = sys.maxsize\n",
        "\n",
        "def distance(p1, p2): \n",
        "    return np.sum((p1 - p2)**2) \n",
        "   \n",
        "def initialize(data, k): \n",
        "    l1 = [] \n",
        "    l1.append(data[np.random.randint(data.shape[0]), :]) \n",
        "   \n",
        "    for _ in range(k - 1): \n",
        "        dist = [] \n",
        "        for i in range(data.shape[0]): \n",
        "            p = data[i, :] \n",
        "            d = maxs \n",
        "            for j in range(len(l1)): \n",
        "                temp_dist = distance(p, l1[j]) \n",
        "                d = min(d, temp_dist) \n",
        "            dist.append(d) \n",
        "    \n",
        "        dist = np.array(dist) \n",
        "        n_c = data[np.argmax(dist), :] \n",
        "        l1.append(n_c) \n",
        "    return l1\n",
        "\n",
        "def assign(d,c,k):\n",
        "    clusters = [[] for i in range(k)]\n",
        "    for i in d:\n",
        "        dist = []\n",
        "        for j in range(k):\n",
        "            dist.append(distance(i,c[j]))\n",
        "        temp = dist.index(min(dist))\n",
        "        clusters[temp].append(i)\n",
        "    return clusters\n",
        "\n",
        "def recal(clusters):\n",
        "    l = []\n",
        "    for i in range (len(clusters)):\n",
        "        l.append(np.mean(np.array(clusters[i])))\n",
        "    return l\n",
        "\n",
        "def kmeansalgo(d,init,iters,k):\n",
        "    c = init.copy()\n",
        "    for i in range(iters):\n",
        "        cl = assign(d,c,k)\n",
        "        updated = recal(cl)\n",
        "        c = updated\n",
        "    return c"
      ],
      "execution_count": 0,
      "outputs": []
    },
    {
      "cell_type": "code",
      "metadata": {
        "colab_type": "code",
        "id": "Y_ZC3C7qB0Ng",
        "outputId": "b37db723-b1f3-446e-f602-1f8c5bd0ab17",
        "colab": {
          "base_uri": "https://localhost:8080/",
          "height": 134
        }
      },
      "source": [
        "for i in range(7):\n",
        "    centroids = initialize(data_array[i], 2)\n",
        "    new_centers = kmeansalgo(data_array[i],centroids,5,2)\n",
        "    err1 = np.linalg.norm(new_centers[0]-mean_array[i][0])\n",
        "    err2 = np.linalg.norm(new_centers[1]-mean_array[i][1])\n",
        "    err = err1+err2\n",
        "    print(\"||(μ1 − μ_1) + (μ2 − μ_2)||_2 using kmeans++ algorithm for c =\", str(c1[i]),\"is: \", err)"
      ],
      "execution_count": 0,
      "outputs": [
        {
          "output_type": "stream",
          "text": [
            "||(μ1 − μ_1) + (μ2 − μ_2)||_2 using kmeans++ algorithm for c = 0.5 is:  2.96407165194376\n",
            "||(μ1 − μ_1) + (μ2 − μ_2)||_2 using kmeans++ algorithm for c = 1 is:  4.729004559934972\n",
            "||(μ1 − μ_1) + (μ2 − μ_2)||_2 using kmeans++ algorithm for c = 1.5 is:  0.08414478295809401\n",
            "||(μ1 − μ_1) + (μ2 − μ_2)||_2 using kmeans++ algorithm for c = 2 is:  8.996706644727656\n",
            "||(μ1 − μ_1) + (μ2 − μ_2)||_2 using kmeans++ algorithm for c = 3 is:  0.028958203027592312\n",
            "||(μ1 − μ_1) + (μ2 − μ_2)||_2 using kmeans++ algorithm for c = 4 is:  17.963455683652413\n",
            "||(μ1 − μ_1) + (μ2 − μ_2)||_2 using kmeans++ algorithm for c = 8 is:  0.009299929476780044\n"
          ],
          "name": "stdout"
        }
      ]
    }
  ]
}